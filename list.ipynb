{
 "cells": [
  {
   "cell_type": "code",
   "execution_count": 2,
   "metadata": {},
   "outputs": [
    {
     "name": "stdout",
     "output_type": "stream",
     "text": [
      "Sara\n",
      "Eman\n",
      "Meerab\n",
      "Harram\n",
      "Dania\n"
     ]
    }
   ],
   "source": [
    "#Exercise 3-1: Names\n",
    "\n",
    "names =[\"Sara\" , \"Eman\" , \"Meerab\" , \"Harram\", \"Dania\"] \n",
    "print(names[0])\n",
    "print(names[1])\n",
    "print(names[2])\n",
    "print(names[3])\n",
    "print(names[4])\n",
    "\n",
    "\n"
   ]
  },
  {
   "cell_type": "code",
   "execution_count": 4,
   "metadata": {},
   "outputs": [
    {
     "name": "stdout",
     "output_type": "stream",
     "text": [
      "Hello,Sara! whats up\n",
      "Hello,Eman! whats up\n",
      "Hello,Meerab! whats up\n",
      "Hello,Harram! whats up\n",
      "Hello,Dania! whats up\n"
     ]
    }
   ],
   "source": [
    "#  Exercise 3-2: greetings\n",
    "names =[\"Sara\" , \"Eman\" , \"Meerab\" , \"Harram\", \"Dania\"] \n",
    "print(f\"Hello,{names[0]}! whats up\")\n",
    "print(f\"Hello,{names[1]}! whats up\")\n",
    "print(f\"Hello,{names[2]}! whats up\")\n",
    "print(f\"Hello,{names[3]}! whats up\")\n",
    "print(f\"Hello,{names[4]}! whats up\")"
   ]
  },
  {
   "cell_type": "code",
   "execution_count": 7,
   "metadata": {},
   "outputs": [
    {
     "name": "stdout",
     "output_type": "stream",
     "text": [
      "I would like to own a car\n",
      "I would like to own a heavy bike\n",
      "I would like to own a cycle\n"
     ]
    }
   ],
   "source": [
    "#Exercise 3-3:Your own list\n",
    "fav_transport=['car','heavy bike','cycle',]\n",
    "print(f\"I would like to own a {fav_transport[0]}\")\n",
    "print(f\"I would like to own a {fav_transport[1]}\")\n",
    "print(f\"I would like to own a {fav_transport[2]}\")"
   ]
  },
  {
   "cell_type": "code",
   "execution_count": 17,
   "metadata": {},
   "outputs": [
    {
     "name": "stdout",
     "output_type": "stream",
     "text": [
      "Dear, silver_team! how about we grab a dinner tonight.\n",
      "Dear, john! how about we grab a dinner tonight.\n",
      "Dear, hamna! how about we grab a dinner tonight.\n"
     ]
    }
   ],
   "source": [
    "# Exercise 3-4:guest list\n",
    "guests =['silver_team','john','hamna']\n",
    "for guest in guests:\n",
    "    print(f\"Dear, {guest}! how about we grab a dinner tonight.\")"
   ]
  },
  {
   "cell_type": "code",
   "execution_count": 21,
   "metadata": {},
   "outputs": [
    {
     "name": "stdout",
     "output_type": "stream",
     "text": [
      "unfortunately john is not coming for dinner. \n",
      "Dear, silver_team! how about we grab a dinner tonight\n",
      "Dear, halsey! how about we grab a dinner tonight\n",
      "Dear, hamna! how about we grab a dinner tonight\n"
     ]
    }
   ],
   "source": [
    "#Exercise 3-5: changing guest list\n",
    "guests =['silver_team','john','hamna']\n",
    "print(f\"unfortunately {guests[1]} is not coming for dinner. \")\n",
    "\n",
    "guests[1]=\"halsey\"\n",
    "for guest in guests:\n",
    "    print(f\"Dear, {guest}! how about we grab a dinner tonight\")\n",
    "\n"
   ]
  },
  {
   "cell_type": "code",
   "execution_count": 3,
   "metadata": {},
   "outputs": [
    {
     "name": "stdout",
     "output_type": "stream",
     "text": [
      "I've reserved a large table for everyone\n",
      "['sara', 'silver_team', 'john', 'Achlys', 'hamna', 'Dania']\n",
      "Dear, sara! how about we grab a dinner tonight.\n",
      "Dear, silver_team! how about we grab a dinner tonight.\n",
      "Dear, john! how about we grab a dinner tonight.\n",
      "Dear, Achlys! how about we grab a dinner tonight.\n",
      "Dear, hamna! how about we grab a dinner tonight.\n",
      "Dear, Dania! how about we grab a dinner tonight.\n"
     ]
    }
   ],
   "source": [
    "#Exercise 3-6: more guest\n",
    "guests =['silver_team','john','hamna']\n",
    "print(f\"I've reserved a large table for everyone\")\n",
    "#add in middle\n",
    "guests.insert(2,\"Achlys\")\n",
    "#add in start\n",
    "guests. insert (0,\"sara\")\n",
    "#add in last\n",
    "guests.append(\"Dania\")\n",
    "print(guests)\n",
    "# new guest list\n",
    "for guest in guests:\n",
    "\n",
    "    print(f\"Dear, {guest}! how about we grab a dinner tonight.\")\n",
    "\n"
   ]
  },
  {
   "cell_type": "code",
   "execution_count": 1,
   "metadata": {},
   "outputs": [
    {
     "name": "stdout",
     "output_type": "stream",
     "text": [
      "sorry guys due to some reason i'm unable to invite everyone thats why i'm gonna invite only two \n",
      "sorry,Dania but i cant invite you to dinner.\n",
      "sara you are still invited\n",
      "final guest list:['john', 'Achlys', 'hamna']\n",
      "Achlys you are still invited\n",
      "final guest list:['hamna']\n"
     ]
    }
   ],
   "source": [
    "\n",
    "\n",
    "#Exercise 3-7: shrinking guest list\n",
    "#only invite two people\n",
    "guests=['sara', 'silver_team', 'john', 'Achlys', 'hamna', 'Dania']\n",
    "print(\"sorry guys due to some reason i'm unable to invite everyone thats why i'm gonna invite only two \")\n",
    "while len(guests)>2:\n",
    "    removed_guest=guests.pop()\n",
    "    print(f\"sorry,{removed_guest} but i cant invite you to dinner.\")\n",
    "    for guest in guests:\n",
    "        print(f\"{guest} you are still invited\")\n",
    "        del guests[0]\n",
    "        del guests[0]\n",
    "        print(f\"final guest list:{guests}\")"
   ]
  },
  {
   "cell_type": "code",
   "execution_count": 13,
   "metadata": {},
   "outputs": [
    {
     "name": "stdout",
     "output_type": "stream",
     "text": [
      "['london', 'mexico', 'maldives', 'amsterdam', 'venice']\n",
      "['amsterdam', 'london', 'maldives', 'mexico', 'venice']\n",
      "['venice', 'mexico', 'maldives', 'london', 'amsterdam']\n",
      "['venice', 'amsterdam', 'maldives', 'mexico', 'london']\n",
      "['london', 'mexico', 'maldives', 'amsterdam', 'venice']\n",
      "['amsterdam', 'london', 'maldives', 'mexico', 'venice']\n",
      "['venice', 'mexico', 'maldives', 'london', 'amsterdam']\n"
     ]
    }
   ],
   "source": [
    "#Exercise 3-8: seeing the world\n",
    "places=[\"london\", \"mexico\",\"maldives\",\"amsterdam\",\"venice\"]\n",
    "print(places)\n",
    "sorted_places=sorted(places)\n",
    "print(sorted_places)\n",
    "sorted_places=sorted(places,reverse=True)\n",
    "print(sorted_places)\n",
    "places=[\"london\", \"mexico\",\"maldives\",\"amsterdam\",\"venice\"]\n",
    "places.reverse()\n",
    "print(places)\n",
    "places.reverse()\n",
    "print(places)\n",
    "sorted_places=sorted(places)\n",
    "print(sorted_places)\n",
    "sorted_places=sorted(places,reverse=True)\n",
    "print(sorted_places)"
   ]
  },
  {
   "cell_type": "code",
   "execution_count": 27,
   "metadata": {},
   "outputs": [
    {
     "name": "stdout",
     "output_type": "stream",
     "text": [
      "original: ['chocolates', 'icecream', 'cakes', 'nutella', 'barquillos']\n",
      "sorted list: ['barquillos', 'cakes', 'chocolates', 'icecream', 'nutella']\n",
      "append list: ['chocolates', 'icecream', 'cakes', 'nutella', 'barquillos', 'ferrero rocher']\n",
      "insert list: ['chocolates', 'icecream', 'cakes', 'biscuits', 'nutella', 'barquillos', 'ferrero rocher']\n",
      "remove list: ['chocolates', 'icecream', 'cakes', 'nutella', 'barquillos', 'ferrero rocher']\n",
      "pop list: ['chocolates', 'icecream', 'cakes', 'barquillos', 'ferrero rocher']\n",
      "reverse list: ['ferrero rocher', 'barquillos', 'cakes', 'icecream', 'chocolates']\n"
     ]
    }
   ],
   "source": [
    "#Exercise 3-9: Every function\n",
    "sweets=[\"chocolates\",\"icecream\",\"cakes\",\"nutella\",\"barquillos\"]\n",
    "print(\"original:\",sweets)\n",
    "print(\"sorted list:\", sorted(sweets))\n",
    "sweets.append(\"ferrero rocher\")\n",
    "print(\"append list:\",sweets)\n",
    "sweets.insert(3,\"biscuits\")\n",
    "print(\"insert list:\",sweets)\n",
    "sweets.remove(\"biscuits\")\n",
    "print(\"remove list:\",sweets)\n",
    "pop_item=sweets.pop(3)\n",
    "print(\"pop list:\",sweets)\n",
    "sweets.reverse()\n",
    "print(\"reverse list:\",sweets)"
   ]
  },
  {
   "cell_type": "code",
   "execution_count": 29,
   "metadata": {},
   "outputs": [
    {
     "name": "stdout",
     "output_type": "stream",
     "text": [
      "1\n"
     ]
    }
   ],
   "source": [
    "#Exercise 3.10: intentional error\n",
    "list=[\"apple\",\"banana\",\"grapes\"]\n",
    "index=list.index(\"banana\")\n",
    "print(index)"
   ]
  }
 ],
 "metadata": {
  "kernelspec": {
   "display_name": "Python 3",
   "language": "python",
   "name": "python3"
  },
  "language_info": {
   "codemirror_mode": {
    "name": "ipython",
    "version": 3
   },
   "file_extension": ".py",
   "mimetype": "text/x-python",
   "name": "python",
   "nbconvert_exporter": "python",
   "pygments_lexer": "ipython3",
   "version": "3.12.4"
  }
 },
 "nbformat": 4,
 "nbformat_minor": 2
}
